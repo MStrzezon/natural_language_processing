{
 "cells": [
  {
   "cell_type": "code",
   "execution_count": 57,
   "metadata": {},
   "outputs": [],
   "source": [
    "import re\n",
    "import matplotlib.pyplot as plt\n",
    "import numpy as np\n",
    "import networkx as nx\n",
    "from networkx.algorithms import bipartite"
   ]
  },
  {
   "cell_type": "code",
   "execution_count": 58,
   "metadata": {},
   "outputs": [],
   "source": [
    "def get_words_list(text):\n",
    "    return [x.lower() for x in re.findall(r'[a-zA-Z0-9_\\(\\)\\|]+', text)]"
   ]
  },
  {
   "cell_type": "code",
   "execution_count": 59,
   "metadata": {},
   "outputs": [],
   "source": [
    "def split_text_by_char(fileName, char):\n",
    "    with open(fileName, 'r') as file:\n",
    "        data = file.read().replace('\\n', ' ')\n",
    "\n",
    "    return data.split(char)"
   ]
  },
  {
   "cell_type": "code",
   "execution_count": 60,
   "metadata": {},
   "outputs": [],
   "source": [
    "def get_bigrams_from_file_by_char(fileName, char):\n",
    "    text_sentences = split_text_by_char(fileName, char)\n",
    "    words_in_sentences = [get_words_list(sentence) for sentence in text_sentences]\n",
    "    words_in_sentences = [x for x in words_in_sentences if x]\n",
    "    bigrams = {}\n",
    "    for sentence in words_in_sentences:\n",
    "        for i in range(len(sentence)):\n",
    "            if i < len(sentence) - 1:\n",
    "                if sentence[i] + ', ' + sentence[i + 1] in bigrams.keys():\n",
    "                    bigrams[sentence[i] + ', ' + sentence[i + 1]] += 1\n",
    "                else:\n",
    "                    bigrams[sentence[i] + ', ' + sentence[i + 1]] = 1\n",
    "    bigrams = sorted(bigrams.items(), key=lambda x: x[1], reverse=True)\n",
    "    return bigrams"
   ]
  },
  {
   "cell_type": "code",
   "execution_count": 61,
   "metadata": {},
   "outputs": [
    {
     "name": "stdout",
     "output_type": "stream",
     "text": [
      "[('dawida, ma', 2), ('ala, ma', 1), ('ma, kota', 1), ('kota, ma', 1), ('ma, ala', 1), ('kot, ma', 1), ('ma, ale', 1), ('ale, ma', 1), ('ma, kot', 1), ('ma, psa', 1), ('psa, ma', 1), ('ma, dawid', 1), ('pies, ma', 1), ('ma, dawida', 1), ('ma, pies', 1)]\n"
     ]
    }
   ],
   "source": [
    "bigrams_sample = get_bigrams_from_file_by_char('../../resources/sample.txt', '.')\n",
    "print(bigrams_sample)"
   ]
  },
  {
   "cell_type": "code",
   "execution_count": 62,
   "metadata": {},
   "outputs": [],
   "source": [
    "bigrams_voynich = get_bigrams_from_file_by_char('../../resources/voynich.txt', '=')\n",
    "# print(bigrams_voynich)"
   ]
  },
  {
   "cell_type": "code",
   "execution_count": 63,
   "metadata": {},
   "outputs": [],
   "source": [
    "bigrams_spanish_wiki = get_bigrams_from_file_by_char('../../resources/spanish_wiki.txt', '.')\n",
    "# print(bigrams_spanish_wiki)"
   ]
  }
 ],
 "metadata": {
  "kernelspec": {
   "display_name": "Python 3.11.0 ('nlp')",
   "language": "python",
   "name": "python3"
  },
  "language_info": {
   "codemirror_mode": {
    "name": "ipython",
    "version": 3
   },
   "file_extension": ".py",
   "mimetype": "text/x-python",
   "name": "python",
   "nbconvert_exporter": "python",
   "pygments_lexer": "ipython3",
   "version": "3.11.0"
  },
  "orig_nbformat": 4,
  "vscode": {
   "interpreter": {
    "hash": "485b9ec982c864fe4b266210cc637e3ce73a8298e3a16b3c120279bda3cc4b1c"
   }
  }
 },
 "nbformat": 4,
 "nbformat_minor": 2
}
