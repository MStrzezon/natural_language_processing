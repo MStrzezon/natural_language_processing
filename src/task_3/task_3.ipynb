{
 "cells": [
  {
   "cell_type": "code",
   "execution_count": 74,
   "metadata": {},
   "outputs": [],
   "source": [
    "import re\n",
    "import matplotlib.pyplot as plt\n",
    "import numpy as np\n",
    "import networkx as nx\n",
    "from networkx.algorithms import bipartite"
   ]
  },
  {
   "cell_type": "code",
   "execution_count": 75,
   "metadata": {},
   "outputs": [],
   "source": [
    "def get_words_list(text):\n",
    "    return [x.lower() for x in re.findall(r'[a-zA-Z0-9_\\(\\)\\|]+', text)]\n",
    "\n",
    "\n",
    "def split_text_by_char(fileName, char):\n",
    "    with open(fileName, 'r') as file:\n",
    "        data = file.read().replace('\\n', ' ')\n",
    "\n",
    "    return data.split(char)\n",
    "\n",
    "\n",
    "def get_bigrams_from_file_by_char(fileName, char):\n",
    "    text_sentences = split_text_by_char(fileName, char)\n",
    "    words_in_sentences = [get_words_list(sentence) for sentence in text_sentences]\n",
    "    words_in_sentences = [x for x in words_in_sentences if x]\n",
    "    bigrams = {}\n",
    "    for sentence in words_in_sentences:\n",
    "        for i in range(len(sentence)):\n",
    "            if i < len(sentence) - 1:\n",
    "                if sentence[i] + ', ' + sentence[i + 1] in bigrams.keys():\n",
    "                    bigrams[sentence[i] + ', ' + sentence[i + 1]] += 1\n",
    "                else:\n",
    "                    bigrams[sentence[i] + ', ' + sentence[i + 1]] = 1\n",
    "    bigrams = sorted(bigrams.items(), key=lambda x: x[1], reverse=True)\n",
    "    return bigrams\n",
    "\n",
    "\n",
    "\n",
    "# Functions to get stats\n",
    "def get_top_n_bigrams(bigrams, n):\n",
    "    return bigrams[:n]\n",
    "\n",
    "def get_bigrams_with_frequency(bigrams, frequency):\n",
    "    return [x for x in bigrams if x[1] >= frequency]\n",
    "\n",
    "def get_bigrams_with_frequency_range(bigrams, min_frequency, max_frequency):\n",
    "    return [x for x in bigrams if x[1] >= min_frequency and x[1] <= max_frequency]\n",
    "\n",
    "def get_bigrams_with_frequency_range_and_n(bigrams, min_frequency, max_frequency, n):\n",
    "    return [x for x in bigrams if x[1] >= min_frequency and x[1] <= max_frequency][:n]\n",
    "\n",
    "def get_top_n_bigrams_with_frequency(bigrams, n, frequency):\n",
    "    return [x for x in bigrams if x[1] >= frequency][:n]\n",
    "\n",
    "def get_top_n_bigrams_with_frequency_range(bigrams, n, min_frequency, max_frequency):\n",
    "    return [x for x in bigrams if x[1] >= min_frequency and x[1] <= max_frequency][:n]\n",
    "\n",
    "def get_top_n_bigrams_with_frequency_range_and_n(bigrams, n, min_frequency, max_frequency, n2):\n",
    "    return [x for x in bigrams if x[1] >= min_frequency and x[1] <= max_frequency][:n2][:n]"
   ]
  },
  {
   "cell_type": "code",
   "execution_count": 76,
   "metadata": {},
   "outputs": [
    {
     "name": "stdout",
     "output_type": "stream",
     "text": [
      "[('dawida, ma', 2), ('ala, ma', 1), ('ma, kota', 1), ('kota, ma', 1), ('ma, ala', 1), ('kot, ma', 1), ('ma, ale', 1), ('ale, ma', 1), ('ma, kot', 1), ('ma, psa', 1), ('psa, ma', 1), ('ma, dawid', 1), ('pies, ma', 1), ('ma, dawida', 1), ('ma, pies', 1)]\n"
     ]
    }
   ],
   "source": [
    "bigrams_sample = get_bigrams_from_file_by_char('../../resources/sample.txt', '.')\n",
    "print(bigrams_sample)"
   ]
  },
  {
   "cell_type": "code",
   "execution_count": 77,
   "metadata": {},
   "outputs": [],
   "source": [
    "bigrams_voynich = get_bigrams_from_file_by_char('../../resources/voynich.txt', '=')\n",
    "# print(bigrams_voynich)"
   ]
  },
  {
   "cell_type": "code",
   "execution_count": 78,
   "metadata": {},
   "outputs": [],
   "source": [
    "bigrams_spanish_wiki = get_bigrams_from_file_by_char('../../resources/spanish_wiki.txt', '.')\n",
    "# print(bigrams_spanish_wiki)"
   ]
  },
  {
   "cell_type": "code",
   "execution_count": 81,
   "metadata": {},
   "outputs": [],
   "source": [
    "# Top 10 bigrams in sample.txt\n",
    "top_10_bigrams_sample = get_top_n_bigrams(bigrams_sample, 10)\n",
    "\n",
    "# Top 10 bigrams in voynich.txt\n",
    "top_10_bigrams_voynich = get_top_n_bigrams(bigrams_voynich, 10)\n",
    "\n",
    "# Top 10 bigrams in spanish_wiki.txt\n",
    "top_10_bigrams_spanish_wiki = get_top_n_bigrams(bigrams_spanish_wiki, 10)"
   ]
  },
  {
   "cell_type": "code",
   "execution_count": 82,
   "metadata": {},
   "outputs": [
    {
     "name": "stdout",
     "output_type": "stream",
     "text": [
      "[('dawida, ma', 2), ('ala, ma', 1), ('ma, kota', 1), ('kota, ma', 1), ('ma, ala', 1), ('kot, ma', 1), ('ma, ale', 1), ('ale, ma', 1), ('ma, kot', 1), ('ma, psa', 1)]\n",
      "[('toe, 8am', 30), ('toe, toe', 19), ('8am, 8am', 12), ('8am, hzg', 11), ('tor, 8am', 10), ('tg, 8am', 9), ('soe, 8am', 9), ('tor, toe', 8), ('toe, soe', 8), ('8am, hzor', 8)]\n",
      "[('sistema, solar', 46), ('de, la', 43), ('m, s', 37), ('en, el', 34), ('n, de', 32), ('del, sistema', 29), ('los, planetas', 28), ('de, los', 21), ('a, la', 19), ('del, sol', 19)]\n"
     ]
    }
   ],
   "source": [
    "print(top_10_bigrams_sample)\n",
    "print(top_10_bigrams_voynich)\n",
    "print(top_10_bigrams_spanish_wiki)"
   ]
  }
 ],
 "metadata": {
  "kernelspec": {
   "display_name": "Python 3.11.0 ('nlp')",
   "language": "python",
   "name": "python3"
  },
  "language_info": {
   "codemirror_mode": {
    "name": "ipython",
    "version": 3
   },
   "file_extension": ".py",
   "mimetype": "text/x-python",
   "name": "python",
   "nbconvert_exporter": "python",
   "pygments_lexer": "ipython3",
   "version": "3.11.0"
  },
  "orig_nbformat": 4,
  "vscode": {
   "interpreter": {
    "hash": "485b9ec982c864fe4b266210cc637e3ce73a8298e3a16b3c120279bda3cc4b1c"
   }
  }
 },
 "nbformat": 4,
 "nbformat_minor": 2
}
