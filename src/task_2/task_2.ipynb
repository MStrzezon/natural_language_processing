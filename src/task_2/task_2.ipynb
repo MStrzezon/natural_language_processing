{
 "cells": [
  {
   "cell_type": "code",
   "execution_count": 62,
   "metadata": {
    "collapsed": true
   },
   "outputs": [],
   "source": [
    "import re\n",
    "import matplotlib.pyplot as plt\n",
    "import numpy as np\n",
    "import networkx as nx\n",
    "from networkx.algorithms import bipartite"
   ]
  },
  {
   "cell_type": "code",
   "execution_count": 63,
   "outputs": [],
   "source": [
    "def get_words_list(text):\n",
    "    return [x.lower() for x in re.findall(r'[a-zA-Z0-9_\\(\\)\\|]+', text)]"
   ],
   "metadata": {
    "collapsed": false,
    "pycharm": {
     "name": "#%%\n"
    }
   }
  },
  {
   "cell_type": "code",
   "execution_count": 73,
   "outputs": [],
   "source": [
    "def get_words_list_from_file(fileName):\n",
    "    with open(fileName, 'r') as file:\n",
    "        data = file.read().replace('\\n', ' ')\n",
    "\n",
    "    return get_words_list(data)"
   ],
   "metadata": {
    "collapsed": false,
    "pycharm": {
     "name": "#%%\n"
    }
   }
  },
  {
   "cell_type": "code",
   "execution_count": 65,
   "outputs": [],
   "source": [
    "def get_unique_words_list(words_list):\n",
    "    return sorted(list(set(words_list)), key=str.lower)"
   ],
   "metadata": {
    "collapsed": false,
    "pycharm": {
     "name": "#%%\n"
    }
   }
  },
  {
   "cell_type": "code",
   "execution_count": 66,
   "outputs": [],
   "source": [
    "def create_bipartite_graph(words_list):\n",
    "    bi_graph = nx.Graph()\n",
    "    # Add nodes with the node attribute \"bipartite\". Append 0 and 1 to differentiate between the two sets of nodes.\n",
    "    unique_words_list = get_unique_words_list(words_list)\n",
    "    bi_graph.add_nodes_from([word + \"_0\" for word in unique_words_list], bipartite=0)\n",
    "    bi_graph.add_nodes_from([word + \"_1\" for word in unique_words_list], bipartite=1)\n",
    "\n",
    "    for i in range(len(words_list)):\n",
    "        if i >= 2:\n",
    "            # check 2 neighbours before\n",
    "            if not bi_graph.has_edge(words_list[i] + \"_0\", words_list[i - 2] + \"_1\"):\n",
    "                bi_graph.add_edge(words_list[i] + \"_0\", words_list[i - 2] + \"_1\", weight=1)\n",
    "        if i >= 1:\n",
    "            # check 1 neighbour before\n",
    "            if not bi_graph.has_edge(words_list[i] + \"_0\", words_list[i - 1] + \"_1\"):\n",
    "                bi_graph.add_edge(words_list[i] + \"_0\", words_list[i - 1] + \"_1\", weight=1)\n",
    "        if i < len(words_list) - 1:\n",
    "            # check 1 neighbour after\n",
    "            if not bi_graph.has_edge(words_list[i] + \"_0\", words_list[i + 1] + \"_1\"):\n",
    "                bi_graph.add_edge(words_list[i] + \"_0\", words_list[i + 1] + \"_1\", weight=1)\n",
    "        if i < len(words_list) - 2:\n",
    "            # check 2 neighbours after\n",
    "            if not bi_graph.has_edge(words_list[i] + \"_0\", words_list[i + 2] + \"_1\"):\n",
    "                bi_graph.add_edge(words_list[i] + \"_0\", words_list[i + 2] + \"_1\", weight=1)\n",
    "\n",
    "    return bi_graph"
   ],
   "metadata": {
    "collapsed": false,
    "pycharm": {
     "name": "#%%\n"
    }
   }
  },
  {
   "cell_type": "code",
   "execution_count": 74,
   "outputs": [],
   "source": [
    "def draw_bipartite_graph(graph):\n",
    "    X, Y = bipartite.sets(graph)\n",
    "    pos = dict()\n",
    "    pos.update((n, (1, i)) for i, n in enumerate(X))  # put nodes from X at x=1\n",
    "    pos.update((n, (2, i)) for i, n in enumerate(Y))  # put nodes from Y at x=2\n",
    "    nx.draw(graph, pos=pos, with_labels=True, node_color=['blue' if node.endswith(\"_0\") else 'green' for node in graph])\n",
    "    plt.show()"
   ],
   "metadata": {
    "collapsed": false,
    "pycharm": {
     "name": "#%%\n"
    }
   }
  },
  {
   "cell_type": "code",
   "execution_count": 68,
   "outputs": [],
   "source": [
    "def get_count_of_edges_for_words(graph):\n",
    "    words = {}\n",
    "    for node in graph:\n",
    "        if node.endswith(\"_0\"):\n",
    "            words[node[:-2]] = 0\n",
    "            for neighbour in graph[node]:\n",
    "                words[node[:-2]] += graph[node][neighbour]['weight']\n",
    "    return dict(sorted(words.items(), key=lambda item: item[1], reverse=True))"
   ],
   "metadata": {
    "collapsed": false,
    "pycharm": {
     "name": "#%%\n"
    }
   }
  },
  {
   "cell_type": "code",
   "execution_count": 76,
   "outputs": [
    {
     "data": {
      "text/plain": "<Figure size 432x288 with 1 Axes>",
      "image/png": "[encoded data removed]"
     },
     "metadata": {},
     "output_type": "display_data"
    }
   ],
   "source": [
    "text_words = get_words_list_from_file('../../resources/sample.txt')\n",
    "words_graph = create_bipartite_graph(text_words)\n",
    "draw_bipartite_graph(words_graph)"
   ],
   "metadata": {
    "collapsed": false,
    "pycharm": {
     "name": "#%%\n"
    }
   }
  },
  {
   "cell_type": "code",
   "execution_count": 70,
   "outputs": [
    {
     "name": "stdout",
     "output_type": "stream",
     "text": [
      "{'kota': 3, 'ala': 2, 'ma': 2}\n"
     ]
    }
   ],
   "source": [
    "print(get_count_of_edges_for_words(words_graph))"
   ],
   "metadata": {
    "collapsed": false,
    "pycharm": {
     "name": "#%%\n"
    }
   }
  },
  {
   "cell_type": "code",
   "execution_count": 70,
   "outputs": [],
   "source": [],
   "metadata": {
    "collapsed": false,
    "pycharm": {
     "name": "#%%\n"
    }
   }
  }
 ],
 "metadata": {
  "kernelspec": {
   "display_name": "Python 3",
   "language": "python",
   "name": "python3"
  },
  "language_info": {
   "codemirror_mode": {
    "name": "ipython",
    "version": 2
   },
   "file_extension": ".py",
   "mimetype": "text/x-python",
   "name": "python",
   "nbconvert_exporter": "python",
   "pygments_lexer": "ipython2",
   "version": "2.7.6"
  }
 },
 "nbformat": 4,
 "nbformat_minor": 0
}